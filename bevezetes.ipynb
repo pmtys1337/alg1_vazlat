{
 "cells": [
  {
   "cell_type": "markdown",
   "metadata": {},
   "source": [
    "# Bevezetes"
   ]
  },
  {
   "cell_type": "markdown",
   "metadata": {},
   "source": [
    "## Tipusok\n",
    "\n",
    "Programozas soran elsodleges feladatunk, hogy egy -a mindennapokban fellepo problemat- megoldjunk. Nagyon fontos tehat, hogy a korulottunk levo vilagot reprezentalni tudjuk -a szamitogep szamara is ertelmezheto- adatokkal.\n",
    "\n",
    "Nagyon fontos viszont, hogy ezeket az adatokat mikeppen tudjuk szamon tartani. A mindennapok soran ket fele ertekkel talalkozunk, nevezetesen diszkret (megszamlalhato) es folytonos (kontinuum szamossag). Az informatikaban folyamatos kihivas a folytonos ertekekkel valo munka (folytonos ertek pl. az ido), hisz a tarhelyet tekintve veges-sok all rendelkezesre, illetve a kettes szamrendszer sajatja, hogy vannak olyan nem egesz -de veges- ertekek is, melyek egesz egyszeruen nem abrazolhatoak, ami furcsa, nem vart eredmenyekhez (pl. 0.1 + 0.1 + 0.1 == 0.3 => False) vezethetnek.\n",
    "\n",
    "A felhasznalt adatok / ertekek egyik legfontosabb tulajdonsaga annak TIPUSA, hisz ez az informacio az egyik legertekesebb amivel rendelkezhetunk. Ha tisztaban vagyunk egy ertek tipusaval, azonnal kepet kaphatunk arrol, hogy az adott ertekkel milyen muveleteket / transzformaciokat vegezhetunk. Marpedig a programok nagyon nagy szazaleka vegsosoron nagy mennyisegu adatot transzformal muveletek segitsegevel masik nagy mennyisegu adatta, amit az adott kontextusban ertelmesni tudunk.\n",
    "\n",
    "### Adatok megjelenesi formaja a programkodban\n",
    "\n",
    "Az adataink (ertekeink) tobbfele modon megjelenhetnek az adott forraskodban.\n",
    "\n",
    "- Literal: az adott ertek szo szerint (*beleegetve*) szerepel a forraskodban (3 -> int literal, 'c' -> char literal, ..)\n",
    "- Azonosito: az adott ertek(ek)re -ami(k) a memoriaban tarolva vannak-, azonositoval hivatkozhatunk, amit a program mindig ki fog cserelni a memoriaban tarolt aktualisan hozzarendelt ertekre (x = 3, .. , x -> 3)\n",
    "- Kifejezes: minden olyan utasitassorozatot amit valamilyen modon ki kell ertekelni / ki kell szamolni (*ertekadas*, *muveletvegzes*, *fuggveny alkalmazas*), kifejezesnek nevezunk, altalaban literalok es azonositok osszekotese kulonbozo muveletekkel (x * 2 + gyok_huszonot() ** 2)"
   ]
  },
  {
   "cell_type": "markdown",
   "metadata": {},
   "source": [
    "### Primitiv tipusok\n",
    "\n",
    "A program letrehozasa soran az egyik legfontosabb dolog, hogy a kulvilagbol erkezo adatokat hogyan irjuk le az adott programozasi nyelvben. A primitiv tipusok azok a legalapvetobb epitoelemeink, melyek implementacioja -esetleg egymastol eltero modon-, megtalalhato.\n",
    "\n",
    "- Int: az **elojeles egesz** ertekek tipusa (*-23*, *42*, ..), korlatjai (pl. tarolo kapacitas) az adott implementaciotol fuggnek\n",
    "- Float / Double: az **elojeles lebegopontos** (nem egesz) ertekek tipusa (*3.14*, ..), konstrukciojabol fakadoan (*szamabrazolas*) rendelkezik korlatokkal (0.1 + 0.1 + 0.1 == 0.3 => **False**)\n",
    "- Char: a **karakter** tipusu ertek abrazolasara szolgal (igazabol numerikus ertek, *ASCII*)\n",
    "- Bool: a **logikai** ertek tipusa, ket lehetseges erteke lehet (**True**, **False**)\n",
    "\n",
    "#### Valtozok\n",
    "\n",
    "Lehetosegunk van programozas soran valtozok hasznalatara. Az elsodleges feladatuk, hogy a hasznalni kivant ertekeket nevesiteni tudjuk, majd kesobb ujra felhasznalni az adott nevvel.\n",
    "\n",
    "A nev valasztas nem veletlen, az igy definialt azonositokat -memoriacimeket azonositanak-, a *valtozo* (**variable**) nevvel illetjuk, hisz a program futasa soran az azonosito altal tarolt ertek folyamatosan valtoz(ik/hat).\n",
    "\n",
    "Egy valtozot altalaban igy hozhatunk letre: *int x = 42*. Ahol:\n",
    "- int: az azonosithoz rendelt ertek **tipusa**, ebbol tudja a gep, mekkora memoriateruletet fog lefedni az adott azonosito\n",
    "- x: az azonosito **neve**, ezzel a nevvel latja el a gep az adott memoriateruletet, kesobb mikor ezt a nevet hasznaljuk, az azon a teruleten tarolt ertekkel fogunk dolgozni\n",
    "- = 42: inicializalas -nem kotelezo-, *lehetosegunk van* az adott azonositohoz azonnal erteket rendelni, ekkor beleirja az adott memoriateruletre az adott erteket (ha ezt elmulasztjuk, nevvel hivatkozhatunk a gep altal kivalasztott memoriateruletre, de a benne tarolt ertek nem ismert -memoriaszemet-)\n",
    "\n",
    "A Python dinamikusan tipusos nyelv, ami azt jelenti, hogy adott valtozo tipusat a neki ertekul adott mennyiseg tipusabol hatarozza meg implicit modon, ennek kovetkezteben kotelezo inicializalni a valtozot: x = 42.\n"
   ]
  },
  {
   "cell_type": "code",
   "execution_count": 3,
   "metadata": {},
   "outputs": [
    {
     "name": "stdout",
     "output_type": "stream",
     "text": [
      "<class 'int'> 3\n",
      "<class 'bool'> True\n",
      "<class 'float'> 0.1 False\n"
     ]
    }
   ],
   "source": []
  },
  {
   "cell_type": "markdown",
   "metadata": {},
   "source": [
    "### Gyujtemeny tipusok\n",
    "\n",
    "A gyujtemeny (**collection**) tipusokra jellemzo, hogy egy adott tipus ertekeibol tobbet tud egyszerre tarolni -atlalaban tombnek (**array**) nevezzuk-, mely ertekek kesobb indexen keresztul elerhetoek.\n",
    "\n",
    "Egy lehetseges megadasi mod es indexen keresztuli hivatkozas: *int t[10]*, *t[3] = 23*. Ahol:\n",
    "- int t[10]: a gep lefoglal szamunkra egy akkora teruletet, ahol tarolni tudunk 10 darab egesz szam tipusu erteket\n",
    "- t[3] = 23: a tarolonk 4. elemenek (az indexeles 0-val kezdodik) erteket 23-ra allitjuk\n",
    "\n",
    "Magasabb szintu nyelvekben altalaban megjelenik a tomb egy tovabb gondolt valtozata, a lista (**list**), ami gyakran mar inhomogen (az elemei tetszoleges tipusbol valaszthatoak) es dinamikusan valtozo meretu.\n",
    "\n",
    "A Pythonban megjeleno gyujtemeny tipusok:\n",
    "- lista (**list**): inhomogen, modosithato (**mutable**)\n",
    "- rendezett n-es (**tuple**): modosithatatlan (**immutable**) -csak olvashato- lista\n",
    "- szotar (**dictionary**): tetszoleges tipussal indexelheto lista, kulcs (**key**) - ertek (**value**) parokat tartalmaz, a kulcsot hasznaljuk indexelesre\n",
    "- halmaz (**set**): a matematikai halmazt valositja meg, egy elemet egyszer tartalmazo lista\n",
    "- fagyasztott halmaz (**frozen set**): modosithatatlan (**immutable**) -csak olvashato- halmaz"
   ]
  },
  {
   "cell_type": "code",
   "execution_count": 9,
   "metadata": {},
   "outputs": [
    {
     "name": "stdout",
     "output_type": "stream",
     "text": [
      "[11, 3.14159265, 'Hey', True, 11, 3.14159265, 'Hey', True]\n",
      "3.14159265\n",
      "[11, 'That was Pi', 'Hey', True, 11, 3.14159265, 'Hey', True]\n",
      "\n",
      "(1, 3.14159265, True)\n",
      "3.14159265\n",
      "(1, 3.14159265, True)\n",
      "\n",
      "{3.14: 'matematikai konstans', 'num_of_coll': 5, 'int': 'egesz szamokat tartalmazo tipus', 'mutable': 'modosithato objektum', 42: 'az elet ertelme', 'tuple': 'rendezett n-es'}\n",
      "modosithato objektum\n",
      "az elet ertelme\n",
      "{3.1415: 'matematikai konstansabb', 3.14: 'matematikai konstans', 'num_of_coll': 5, 'int': 'egesz szamokat tartalmazo tipus', 'mutable': 'modosithato objektum', 42: 'az elet ertelme', 'tuple': 'rendezett n-es'}\n"
     ]
    }
   ],
   "source": []
  },
  {
   "cell_type": "markdown",
   "metadata": {},
   "source": [
    "### Osszetett tipusok\n",
    "\n",
    "A fejlesztes soran hamar szembesulhetunk azzal a problemaval, hogy a valo valiagban rendelkezesre allo adatok nem, vagy csak nagyon korulmenyesen irhatoak le a rendelkezesre allo primitiv tipusokkal. Ekkor megjelenhet az igeny arra, hogy a primitiv tipusokat felhasznalva, osszetettebb tipusokat definialhassunk.\n",
    "\n",
    "Ha a programunk pl. egy allatorvosi rendeloben dolgozza fel az adatainkat, kezen fekvo lehet, hogy megalkothassuk a Kutya tipust, ami primitiv tipusok -logikailag osszetartozo- sokasagaval irja le egy kutya adatait, ilyen lehet pl.:\n",
    "- nev: **char** (sorozata)\n",
    "- kor: **int**\n",
    "- fajta: **szoveg** (sorozata)\n",
    "\n",
    "Az ilyen altalunk csak primitiv tipusu ertekek sokasagabol allo -es csakis abbol- definialt tipust rekordnak (**record**) nevezzuk.\n",
    "\n",
    "Kesobb felmerult az igeny, hogy az altalunk letrehozott tipusra -mint halmazra-, definialhassunk sajat -csak ezen tipuson ertelmes- muveleteket / cselekveseket / transzformaciokat (pl. Kutya -> ugatas), ennek menten jutunk el kesobb a struktura (**struct**) es osztaly (**class**) fogalmahoz.\n",
    "\n",
    "- Record: olyan altalunk definialt tipus, mely csak primitiv tipusok osszesseget tartalmazza, ezeket mezonek (**field**), vagy adattagnak (**data member**), vagy tulajdonsagnak (**property**) nevezzuk\n",
    "- Struct: olyan altalunk definialt record tipus, ami kibovitesre kerult a tipusra jellemzo muveletekkel / transzformaciokkal / cselekvesekkel, ezeket tagfuggvenyeknek (**member function**) nevezzuk, a struktura default lathatosaga publikus (**public**)\n",
    "- Class: olyan altalunk definialt struktura tipus, ahol megjelenik az oroklodes (**inheritance**) eszkoze, valamint a default lathatosaga privat (**private**)"
   ]
  },
  {
   "cell_type": "markdown",
   "metadata": {},
   "source": [
    "## Vezerlesi szerkezetek\n",
    "\n",
    "A vezerlesi szerkezetek olyan eszkozok szamonkra, melyekkel a program futasanak sorrendjet tudjuk manipulalni. Alapvetoen az altalunk targyalt kodok szekvencialisan futnak, ami csupan annyit jelent, hogy az egymas utan leirt -ertekado- utasitasok szepen sorban lefutnak / kiertekelodnek."
   ]
  },
  {
   "cell_type": "markdown",
   "metadata": {},
   "source": [
    "### Szekvencia\n",
    "\n",
    "A szekvencia mint eszkoz, lehetove teszi, hogy egymas utan utasitasokat sorolhassunk fel, ami a program futasa alatt sorrol sorra lefut / kiertekelodik."
   ]
  },
  {
   "cell_type": "code",
   "execution_count": 2,
   "metadata": {},
   "outputs": [
    {
     "name": "stdout",
     "output_type": "stream",
     "text": [
      "302875106592253\n",
      "9\n",
      "HeyHeyHeyHeyHeyHeyHeyHeyHeyHeyHeyHeyHey\n"
     ]
    }
   ],
   "source": []
  },
  {
   "cell_type": "markdown",
   "metadata": {},
   "source": [
    "### Elagazas\n",
    "\n",
    "Hamar felmerul az igeny, hogy bizonyos utasitasok csupan valamilyen altalunk megfogalmazott feltetelhez kotodoen fussanak le pl. csak akkor megyek setalni, ha nem esik az eso.\n",
    "\n",
    "Fontos tisztaznunk, hogy a feltetel megalkotasakor, milyen mondatokat nevezhetunk allitasnak. A vizsgalni kivant feltetelnek (logikai) allitasnak kell lennie. Egy mondat (*A rozsa szep.*, *Morzsi okos*, *A ketto paros szam*) akkor lesz (logikai) allitas, ha annak tartalmarol -az adott kontextusban- egyertelmuen eldontheto igaz mivolta."
   ]
  },
  {
   "cell_type": "code",
   "execution_count": 3,
   "metadata": {},
   "outputs": [
    {
     "name": "stdout",
     "output_type": "stream",
     "text": [
      "That was Monday!\n"
     ]
    }
   ],
   "source": []
  },
  {
   "cell_type": "markdown",
   "metadata": {},
   "source": [
    "### Ciklus\n",
    "\n",
    "Ciklus segitsegevel lehetosegunk van adott utasitassorozatot ujra es ujra megismetelni, mindaddig amig egy altalunk definialt (altalaban bentmaradasi) (logikai) allitas igaz marad.\n",
    "\n",
    "A ciklus megjelenesi formai:\n",
    "- eloltesztelo (**while**): megvizsgalja az adott feltetelt, amennyiben az igaz, lefuttatja a ciklusmagot, majd ujra ellenorzi a feltetel fennalasat\n",
    "- hatultesztelo (**do** _ **while**): lefuttatja a ciklusmagot, majd megvizsgalja az adott feltetel igazsagerteket, amennyiben az igaz, ujra lefuttatja a ciklusmagot\n",
    "- szamlalo (**for**): a program irasanak pillanataban ismert, hogy hanyszor szeretnenk megismeteltetni az adott utasitasokat\n",
    "- iteralo (**foreach**): a ciklus specialisan adatok egy gyujtemenyen lepked vegig, elemeinek feldolgozasat megkonnyitendo\n",
    "\n",
    "A Pythonban csak eloltesztelo (**while**) es iteralo (**foreach**) tipusu ciklus letezik."
   ]
  },
  {
   "cell_type": "code",
   "execution_count": 6,
   "metadata": {},
   "outputs": [
    {
     "name": "stdout",
     "output_type": "stream",
     "text": [
      "This is not seven.. (1)\n",
      "This is not seven.. (2)\n",
      "This is not seven.. (3)\n",
      "This is not seven.. (4)\n",
      "This is not seven.. (5)\n",
      "This is not seven.. (6)\n",
      "\n",
      "0²: 0\n",
      "1²: 1\n",
      "2²: 4\n",
      "3²: 9\n",
      "4²: 16\n",
      "5²: 25\n",
      "6²: 36\n",
      "7²: 49\n",
      "8²: 64\n",
      "9²: 81\n",
      "10²: 100\n"
     ]
    }
   ],
   "source": []
  },
  {
   "cell_type": "markdown",
   "metadata": {},
   "source": [
    "### Eljarasok / fuggvenyek\n",
    "\n",
    "A nyelvi eszkozok lehetoseget nyujtanak arra, hogy ne csak adott ertekhez rendelhessunk azonositot, hanem megadott utasitasok osszessegehez is. Ekkor -mint valtozok hasznalatanal is-, az azonositoval hivatkozhatunk az ellnevezett programblokkra, igy azt tobbszor is ujra felhasznalhatjuk a programunkban, anelkul, hogy az azonositohoz rendelt utasitasokat redundansan ismetelnenk.\n",
    "\n",
    "- Eljaras / alprogram / procedura (**procedure**): azokat a kiemelt utasitassorozatokat nevezzuk alprogramnak, ahol azt szeretnenk elerni, hogy az adott utasitasok ujra es ujra lefuthassanak elkerulve ezzel a sok kodismetlest a forrasfile-ban\n",
    "- Fuggveny (**function**): azokat a kiemelt utasitassorozatokat nevezzuk fuggvenynek, ahol az utasitasok eloallitanak egy szamunkra ertelmes vegeredmenyt (*erteket*), amivel kesobb visszater (**return**), hogy tovabb tudjunk dolgozni vele, lenyegeben a matematikai fgv definiciot valositja meg, ahol egy ertekhez *egyertelmuen hozzarendel* egy vegeredmenyt\n",
    "\n",
    "A Python nem ad nyelvi konstrukciot arra, hogy a ketfele elkulonitest elvegezhessuk, igy csak fuggvenyeket hozhatunk letre / definialhatunk (**def**), ami azt jelenti, hogy minden alprogram rendelkezik visszateresi ertekkel, ami default ertelmezesben egy specialis ertek -*None*- egy specialis tipussal -*NoneType*-."
   ]
  },
  {
   "cell_type": "code",
   "execution_count": 15,
   "metadata": {},
   "outputs": [
    {
     "name": "stdout",
     "output_type": "stream",
     "text": [
      "Your name: John Doe\n",
      "Nice to meet you John Doe!\n",
      "Nice to meet you John Doe!\n",
      "None\n",
      "\n",
      "Nice to meet you John Doe!\n",
      "Nice to meet you John Doe!Nice to meet you John Doe! !just a value!\n"
     ]
    }
   ],
   "source": []
  }
 ],
 "metadata": {
  "kernelspec": {
   "display_name": "Python 3",
   "language": "python",
   "name": "python3"
  },
  "language_info": {
   "codemirror_mode": {
    "name": "ipython",
    "version": 3
   },
   "file_extension": ".py",
   "mimetype": "text/x-python",
   "name": "python",
   "nbconvert_exporter": "python",
   "pygments_lexer": "ipython3",
   "version": "3.5.2"
  }
 },
 "nbformat": 4,
 "nbformat_minor": 2
}
