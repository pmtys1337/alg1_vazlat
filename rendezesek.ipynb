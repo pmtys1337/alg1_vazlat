{
 "cells": [
  {
   "cell_type": "markdown",
   "metadata": {},
   "source": [
    "# Rendezesek\n",
    "\n",
    "Az egyik legyakrabban elofrodulo problema, az adataink rendezese. Tobbfele rendezesi strategiat hasznalhatunk, melyek elterhetnek mind futasidoben, mint tarhely hasznalat szempontjabol. Mikor kivalasztjuk a megfelelo rendezesi strategiat, erdemes figyelembe venni, az adott algoritmus mit iger futasido szempontjabol a **legjobb**, **legrosszabb** es **atlagos** esetre.\n",
    "\n",
    "[Futasidok](https://en.wikipedia.org/wiki/Sorting_algorithm)\n",
    "\n",
    "[Animacio](https://www.youtube.com/watch?v=kPRA0W1kECg)"
   ]
  },
  {
   "cell_type": "code",
   "execution_count": 1,
   "metadata": {},
   "outputs": [],
   "source": [
    "def swap(a, b):\n",
    "    tmp = a\n",
    "    a = b\n",
    "    b = tmp"
   ]
  },
  {
   "cell_type": "markdown",
   "metadata": {},
   "source": [
    "## Buborekrendezes\n",
    "\n",
    "A [buborekrendezes](https://hu.wikipedia.org/wiki/Bubor%C3%A9krendez%C3%A9s) lenyege, hogy mindig osszehasonlitunk ket szomszedos elemet es ha a korabbi pozicioban nagyobb ertek all, akkor egesz egyszeruen megcsereljuk oket, igy a vegen az utolso pozicioba biztosan a legnagyobb elem kerul.\n",
    "\n",
    "### Pszeudokod\n",
    "\n",
    "**be**: t[N]  \n",
    "**ciklus** i = N-tol 1-ig  \n",
    "&nbsp;&nbsp;&nbsp;&nbsp;**ciklus** j = 1-tol i-1-ig  \n",
    "&nbsp;&nbsp;&nbsp;&nbsp;\n",
    "&nbsp;&nbsp;&nbsp;&nbsp;**ha** t[j] > t[j+1]  \n",
    "&nbsp;&nbsp;&nbsp;&nbsp;\n",
    "&nbsp;&nbsp;&nbsp;&nbsp;\n",
    "&nbsp;&nbsp;&nbsp;&nbsp;**akkor** csere(t[j], t[j+1])  \n",
    "&nbsp;&nbsp;&nbsp;&nbsp;**ciklus vege**  \n",
    "**ciklus vege**\n"
   ]
  },
  {
   "cell_type": "code",
   "execution_count": 2,
   "metadata": {},
   "outputs": [],
   "source": [
    "def bubble_sort(numbers):\n",
    "    pass"
   ]
  },
  {
   "cell_type": "markdown",
   "metadata": {},
   "source": [
    "## Kivalasztasos rendezes\n",
    "\n",
    "Ennel a rendezesnel valamelyik szelso erteket -*minimum*, *maximum*- fogjuk kivalasztani es adott korben a helyere tenni.\n",
    "\n",
    "### Pszeudokod\n",
    "\n",
    "**be**: t[N]  \n",
    "**ciklus** i = N-tol 1-ig  \n",
    "&nbsp;&nbsp;&nbsp;&nbsp;maxi := 1  \n",
    "&nbsp;&nbsp;&nbsp;&nbsp;**ciklus** j = 2-tol i-ig  \n",
    "&nbsp;&nbsp;&nbsp;&nbsp;\n",
    "&nbsp;&nbsp;&nbsp;&nbsp;**ha** t[maxi] < t[j]  \n",
    "&nbsp;&nbsp;&nbsp;&nbsp;\n",
    "&nbsp;&nbsp;&nbsp;&nbsp;\n",
    "&nbsp;&nbsp;&nbsp;&nbsp;**akkor** maxi := j  \n",
    "&nbsp;&nbsp;&nbsp;&nbsp;**ciklus vege**  \n",
    "&nbsp;&nbsp;&nbsp;&nbsp;csere(t[i],t[maxi])  \n",
    "**ciklus vege**"
   ]
  },
  {
   "cell_type": "code",
   "execution_count": 3,
   "metadata": {},
   "outputs": [],
   "source": [
    "def selection_short(numbers):\n",
    "    pass"
   ]
  },
  {
   "cell_type": "markdown",
   "metadata": {},
   "source": [
    "## Gyorsrendezes\n",
    "\n",
    "Ez egy rekurziv rendezesi algoritmus, aminek hatasara nagyon jol parhuzamosithato, hisz a rekurziv hivasok teljesen fuggetlenek egymastol. Az algoritmus tobb lepesbol all, eloszor kivalasztunk egy kituntetett (**pivot**) elemet. Ezek utan kulonvalogatjuk az ennel kisebb, illetve nagyobb elemeket a listabol. Rekurziv hivassal eloallitjuk a vegeredmenyt.\n",
    "\n",
    "### Pszeudokod\n",
    "\n",
    "**be**: t[N]  \n",
    "kivalasztott := t[1]  \n",
    "kisebbek := kicsi(t[2:], kivalasztott)  \n",
    "nagyobbak := nagy(t[2:], kivalasztott)  \n",
    "**ki**: gyorsrendezes(kisebbek) ++ [kivalasztott] ++ gyorsrendezes(nagyobbak)"
   ]
  },
  {
   "cell_type": "code",
   "execution_count": 4,
   "metadata": {},
   "outputs": [],
   "source": [
    "def smaller(numbers, num):\n",
    "    pass\n",
    "\n",
    "def higher(numbers, num):\n",
    "    pass\n",
    "\n",
    "def quick_sort(numbers):\n",
    "    pass"
   ]
  },
  {
   "cell_type": "markdown",
   "metadata": {},
   "source": [
    "## Valasztott rendezes\n",
    "\n",
    "### Pszeudokod"
   ]
  },
  {
   "cell_type": "code",
   "execution_count": 5,
   "metadata": {},
   "outputs": [],
   "source": [
    "def your_sort(numbers):\n",
    "    pass"
   ]
  }
 ],
 "metadata": {
  "kernelspec": {
   "display_name": "Python 3",
   "language": "python",
   "name": "python3"
  },
  "language_info": {
   "codemirror_mode": {
    "name": "ipython",
    "version": 3
   },
   "file_extension": ".py",
   "mimetype": "text/x-python",
   "name": "python",
   "nbconvert_exporter": "python",
   "pygments_lexer": "ipython3",
   "version": "3.5.2"
  }
 },
 "nbformat": 4,
 "nbformat_minor": 2
}
