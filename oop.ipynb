{
 "cells": [
  {
   "cell_type": "markdown",
   "metadata": {},
   "source": [
    "# Objektum orientalt programozas\n",
    "\n",
    "## Az OOP es szekvencialis nyelvek kulonbsegei\n",
    "\n",
    "A hagyományos, ún. szekvenciális programozási nyelvekben az utasítások sorról sorra, egymást követően hajtódnak végre. Ez annyit jelent, hogy a program egyes sorai egymásra épülnek: Ha az egyik sorban definiálunk egy változót, akkor a következő sorban is használhatjuk. Ezt az egyszerűséget megtöri az előre definiált rutinok és függvények használata, de még a ciklusokkal, illetve más vezérlési szerkezetekkel együtt is könnyen átlátható a forráskód struktúrája. Az ilyen nyelveknél ez felfogható előnyként is, azonban nagy projektekben kényelmetlenséget okozhat, hogy egy-egy alapvető algoritmust többször, többféleképpen is le kell írnunk, holott lényegi változtatás nincs benne. Ezt a problémát részben lehet szubrutinokkal és függvényekkel orvosolni, de az igazi megoldást az objektumok használata jelenti.\n",
    "\n",
    "Az objektumközpontú problémamegközelítés alapjaiban megváltoztatja a programozással kapcsolatos gondolkodásmódunkat. Az objektumorientált programozás alapja, hogy az adatokat és az őket kezelő függvényeket egy egységbe zárjuk (**encapsulation**). Az OOP másik fontos sajátossága az öröklődés (**inheritance**). Az öröklés azt jelenti, hogy egy osztályból kiindulva újakat hozunk létre, amelyek öröklik az ősosztály (**baseclass**) adattagjait és metódusait. Az új osztályt származtatott (**derived**) osztálynak nevezzük."
   ]
  },
  {
   "cell_type": "markdown",
   "metadata": {},
   "source": [
    "## Az osztaly es objektum\n",
    "\n",
    "Az objektum orientalt programozas ket alapegysege az osztaly (**class**) es az objektum / peldany (**object**).\n",
    "\n",
    "- Osztaly: az osztaly lenyegeben egy altalunk letrehozott osszetett tipus sablonja\n",
    "- Objektum / peldany: az adott osztaly (tipus) egy konkret eleme (peldanya)"
   ]
  },
  {
   "cell_type": "code",
   "execution_count": 10,
   "metadata": {},
   "outputs": [],
   "source": [
    "# Create objects"
   ]
  },
  {
   "cell_type": "markdown",
   "metadata": {},
   "source": [
    "## Az osztaly mint record\n",
    "\n",
    "A python nem ad nyelvi eszkozt a kezunkbe, hogy logikailag osszetartozo primitiv tipusokat (es csakis azokat), uj u.n. record tipusba szervezzuk.\n",
    "\n",
    "Az osztaly segitsegevel reprezentalhatjuk a kivant strukturat."
   ]
  },
  {
   "cell_type": "code",
   "execution_count": 11,
   "metadata": {},
   "outputs": [],
   "source": [
    "# Class like a record"
   ]
  },
  {
   "cell_type": "markdown",
   "metadata": {},
   "source": [
    "# Az osztaly mint uj tipus\n",
    "\n",
    "Az objektum orientaltsag fo eszkoze az osztalyok (uj tipusok) letrehozasa. Ennek segitsegevel a logikailag osszetartozo adatokat szeparalhatjuk el a kulvilag elol, ne feledkezzunk meg a tipusok fontossagarol es a muveletekkel valo szoros kapcsolatarol.\n",
    "\n",
    "Az osztalyt / tipust leiro sablon / vaz (**skeleton**)\n",
    "\n",
    "- Adattag / tulajdonsag (**property**)\n",
    "- Tagfuggveny / muvelet (**method**)\n",
    "\n",
    "## Peldanyositas\n",
    "\n",
    "Mikor letrehozzuk egy osztaly adott objektumat (peldanyositunk), a Python -bar dinamikus tipusozasu-, nem tudja megjosolni ertekek alapjan, melyik -*altalunk letrehozott tipus*- objektuma lesz. Sajat tipusbol objektumot letrehozni specialisan kosntruktorral tudunk.\n",
    "\n",
    "- Konstruktor: az osztaly egy specialis metodusa, ami akkor fut le, mikor eppen peldanyositjuk az osztaly egy objektumat, eppen ezert inicializalasra hasznaljuk\n",
    "- Destruktor: az osztaly egz specialis metodusa, ami akkor fut le, mikor fel kell szabaduljon a memoria, ahol az objektum talalhato (pl. mar nem letezik ra hivatkozas)\n",
    "\n",
    "## Az osztalyt leiro tulajdonsagok lathatosaga (PPP)\n",
    "\n",
    "Az egyik legfontosabb kerdes mikor osztalyok megvalositasat es azok kapcsolatat / hierarhchiajat (**hiearchy**) tervezzuk, az adott osztalyt leiro tulajdonsagok lathatosaga a kulvilag fele\n",
    "\n",
    "- Privat (**private**): az adott tulajdonsag, csak a tipus definiciojaban latszik / hasznalhato\n",
    "- Vedett (**protected**): az adott tulajdonsagot az adott tipusbol szarmazo gyerekosztaly felhasznalhatja a sajat definiciojaban\n",
    "- Publikus (**public**): az adott tulajdonsag szabadon felhasznalhato a program barmely reszeben\n",
    "\n",
    "Ahhoz, hogy a lathatosagokat a -szerintunk- megfelelo modon biztositani tudjuk, a tulajdonsagok megjelenitesehez / modositasahoz konvencio szerint megjelenito (**get**) es modosito (**set**) muveleteket hasznalunk.\n",
    "\n",
    "- Megjelenito / getter: az altalunk -*belso reprezentaciora*- hasznalt privat valtozokhoz hasznalt megjelenito muvelet\n",
    "- Modosito / setter: az altalunk -*belso reprezentaciora*- hasznalt privat valtozokhoz hasznalt modosito muvelet"
   ]
  },
  {
   "cell_type": "code",
   "execution_count": 14,
   "metadata": {},
   "outputs": [],
   "source": [
    "# Create our own Dog class\n",
    "\n",
    "class Dog:\n",
    "    pass"
   ]
  },
  {
   "cell_type": "markdown",
   "metadata": {},
   "source": [
    "## Oroklodes\n",
    "\n",
    "Az objektum orientaltsag masik nagy erossege az oroklodes (**inheritance**), mely segitsegevel tenyleges hierarchiat epithetunk ki az altalunk definialt osztalyok kozott, ahol minden west terrier kutya, de nem minden kutya west terrier.\n",
    "\n",
    "### Absztrakt osztaly\n",
    "\n",
    "Sok nyelvben lehetoseg van absztrakt osztaly letrehozasara, ami altalaban a hierarchia tetejen helyezkedik el es mar annyira altalanos, hogy nincs ertelme peldanyositani (pl. Eloleny -> Kutya).\n",
    "\n",
    "- Virtualis metodus / muvelet: az osztaly definicioban jelezzuk, hogy ezzel a metodussal rendelkeznie kell az adott tipusnak, viszont nem definialjuk annak mukodeset => nem peldanyosithato\n",
    "\n",
    "### Muvelet feluldefinialas / override\n",
    "\n",
    "Mikor elunk az okrolodes eszkozevel, azt azert tesszuk, mert az ujonan definialni kivant tipus minden muvelettel -*esetleg tobbel*- rendelkezik, amivel a szulo osztaly. Kenyelmes eszkoz, hisz egyszerre tobb tiz (*barmennyi*) muvelet oroklodik, igy ezeket nem kell ujra definialnunk.\n",
    "\n",
    "Mi a helyzet abban az esetben, ha a sok -mar megorokolt- muveletbol van nehany, amik az uj tipusnal szeretnenk, hogy mashogy mukodjon?! Erre ad eszkozt a feluldefinialas, ekkor ugyan annak a muveletnek adhatunk mas -specialisabb- mukodest."
   ]
  },
  {
   "cell_type": "code",
   "execution_count": 16,
   "metadata": {},
   "outputs": [],
   "source": [
    "# Create derived class of Dog\n",
    "\n",
    "class WestHighlandWhiteTerrier:\n",
    "    pass"
   ]
  }
 ],
 "metadata": {
  "kernelspec": {
   "display_name": "Python 3",
   "language": "python",
   "name": "python3"
  },
  "language_info": {
   "codemirror_mode": {
    "name": "ipython",
    "version": 3
   },
   "file_extension": ".py",
   "mimetype": "text/x-python",
   "name": "python",
   "nbconvert_exporter": "python",
   "pygments_lexer": "ipython3",
   "version": "3.5.2"
  }
 },
 "nbformat": 4,
 "nbformat_minor": 2
}
