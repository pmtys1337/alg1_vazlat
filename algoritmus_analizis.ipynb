{
 "cells": [
  {
   "cell_type": "markdown",
   "metadata": {},
   "source": [
    "# Algoritmus analizis\n",
    "\n",
    "A programozas kezdete ota altalanosan elofordulo dolog a programok osszehasonlitasa. Eszrevehetjuk, hogy sok program -bizonyos problemakoron belul-, nagyon hasonlit egymashoz, foleg az egyszerubbek / rovidebbek. Gyakran felmerul egy erdekes kerdes. Ha ket program ugyan azt a feladatot oldja meg, megis nagyon kulonbozoek, jobb-e az egyik, mint a masik?\n",
    "\n",
    "Hogy ezt a kerdeskort megvizsgaljuk, szem elott kell tartanunk kulonbseg van program es az algoritmus kozott, amit az reprezental. Az algoritmus altalanos utasitasok egy sorozata ami eljuttat minket az **adott** feladat megoldasahoz. Sok program megvalosithatja ugyan azt az algoritmust ami fugghet egyarant a programozotol es a nyelvtol is amit hasznal.\n",
    "\n",
    "Nezzuk a mar jol ismert osszegzest megvalosito fuggvenyt. A gyakran elofordulo problemat oldja meg, ahol ossze kell adnunk az elso *n* szamot. Az algoritmus alapotlete, hogy egy akkumlalo valtozo -az uj erteke **mindig** fugg a regitol- bevezetesevel, az osszes szamot ehhez hozzaadva megkaphatjuk a vegeredmenyt."
   ]
  },
  {
   "cell_type": "code",
   "execution_count": 1,
   "metadata": {},
   "outputs": [
    {
     "name": "stdout",
     "output_type": "stream",
     "text": [
      "55\n"
     ]
    }
   ],
   "source": [
    "def sum_n(n):\n",
    "    summa = 0\n",
    "    for i in range(1,n+1):\n",
    "        summa = summa + i\n",
    "    \n",
    "    return summa\n",
    "\n",
    "print(sum_n(10))"
   ]
  },
  {
   "cell_type": "code",
   "execution_count": 2,
   "metadata": {},
   "outputs": [
    {
     "name": "stdout",
     "output_type": "stream",
     "text": [
      "55\n"
     ]
    }
   ],
   "source": [
    "def foo(tom):\n",
    "    fred = 0\n",
    "    for bill in range(1,tom+1):\n",
    "        barney = bill\n",
    "        fred = fred + barney\n",
    "        \n",
    "    return fred\n",
    "\n",
    "print(foo(10))"
   ]
  },
  {
   "cell_type": "markdown",
   "metadata": {},
   "source": [
    "A ket fuggvenyt osszehasonlitva nem is annyira magatol ertetodo melyik a jobb megoldas. A valasz nagyban fugg a program / algoritmus fele tamasztott kovetelmenyektol. Persze azonnal mondhatnank hogy szem elott tartva az **easy to read and easy to understand** elvet, azaz egyarant konnyu legyen leirni **es** megerteni is.\n",
    "\n",
    "Az algoritmus analizis osszehasonlitasi alapja foleg az algoritmus hatekonysaganak a vizsgalata (*szamitasi kapacitas*, *futasido*). Szeretnenk osszehasonlitani ket algoritmust es hatekonysaguk alapjan eldonteni mikor melyik a *jobb*. Ebbol a szemszogbol vizsgalva az elobbi ket kodot, maris nem kulonboznek annyira.\n",
    "\n",
    "Az egyik szempont ami alapjan vizsgalhatjuk az algoritmusokat az az altaluk felhasznalt memoriaterulet, azaz, hogy mennyi memoriara van szukseg a problema megoldasahoz. Alapvetoen a memoria hasznalata sokszor egy rajtunk kivul allo tenyezo, ami egeszen az adott programozasi nyelv memoriakezeleseig hatolo problemakor.\n",
    "\n",
    "A masik szempont ami alapjan osszehasonlithatjuk a kulonbozo algoritmusokat az a futasidejuk. A **szamitastudomany** a *computer science* egy olyan aga, ahol az egyik meghatarozo kerdes, hogy az adott problema kiszamithato-e algoritmussal. Egy masik fontos kerdes, hogy ez **veges** idoben megtortenik-e."
   ]
  },
  {
   "cell_type": "code",
   "execution_count": 3,
   "metadata": {},
   "outputs": [],
   "source": [
    "import time\n",
    "def sum_time(n):\n",
    "    pass"
   ]
  },
  {
   "cell_type": "markdown",
   "metadata": {},
   "source": [
    "Nezzuk meg mi tortenki, ha 5-szor osszeadjuk az elso 10.000  / 100.000 / 1.000.000 szamot."
   ]
  },
  {
   "cell_type": "code",
   "execution_count": 6,
   "metadata": {},
   "outputs": [
    {
     "name": "stdout",
     "output_type": "stream",
     "text": [
      "\n",
      "\n",
      "\n"
     ]
    }
   ],
   "source": [
    "# sum of first 10.000 integer\n",
    "for i in range(5):\n",
    "    pass\n",
    "print()\n",
    "\n",
    "# sum of first 100.000 integer\n",
    "for i in range(5):\n",
    "    pass\n",
    "print()\n",
    "\n",
    "#sum of first 1.000.000\n",
    "for i in range(5):\n",
    "    pass\n",
    "print()"
   ]
  },
  {
   "cell_type": "code",
   "execution_count": 19,
   "metadata": {},
   "outputs": [],
   "source": [
    "import timeit\n",
    "def list_concat():\n",
    "    l = []\n",
    "    for i in range(1000):\n",
    "        l = l + [i]\n",
    "\n",
    "timer_concat = timeit.Timer(\"list_concat()\",\n",
    "                            \"from __main__ import list_concat\")"
   ]
  },
  {
   "cell_type": "code",
   "execution_count": 22,
   "metadata": {},
   "outputs": [
    {
     "name": "stdout",
     "output_type": "stream",
     "text": [
      "concat:  13.452557919001265 ms\n"
     ]
    }
   ],
   "source": [
    "print(\"concat: \",timer_concat.timeit(number=10000),\"ms\")"
   ]
  }
 ],
 "metadata": {
  "kernelspec": {
   "display_name": "Python 3",
   "language": "python",
   "name": "python3"
  },
  "language_info": {
   "codemirror_mode": {
    "name": "ipython",
    "version": 3
   },
   "file_extension": ".py",
   "mimetype": "text/x-python",
   "name": "python",
   "nbconvert_exporter": "python",
   "pygments_lexer": "ipython3",
   "version": "3.5.2"
  }
 },
 "nbformat": 4,
 "nbformat_minor": 2
}
