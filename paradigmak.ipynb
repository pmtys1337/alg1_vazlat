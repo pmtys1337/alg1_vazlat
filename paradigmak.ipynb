{
 "cells": [
  {
   "cell_type": "markdown",
   "metadata": {},
   "source": [
    "# Programozasi paradigmak\n",
    "\n",
    "  A programozasi paradigmak lenyegeben a program elkesziteset meghatarozo elvek osszessege, melyek erinthetik es altalaban erintik is az adatok es azok feldolgozasat, az eljarasok vagy parancsok strukturalasat es modellezeset, kozvetve kijelolheti azon problemak koret is, amelyek megoldasara a nyelv optimalis eszkozt jelent, vagy amelyek egyaltalan megoldhatoak a nyelv keretei kozott.\n",
    "\n",
    "  Ezen elvek célja az, hogy a programozók a programokat minél hatékonyabban tudják elkészíteni, azokkal az adott problémát minél egyszerűbben tudják megoldani. Az új paradigmák kialakulását általában az új programozási módszerek megjelenése követi. Egyes programozási elv hatékonysága és népszerűsége csak hosszú évek, évtizedek alatt látható. Vannak paradigmák, melyek régen „népszerűek” voltak, de mára „elavultnak” tekintik őket (például az procedurális programozás), mások hosszú évtizedek óta széles körben elterjedtek (mint amilyen a strukturált programozás)."
   ]
  },
  {
   "cell_type": "code",
   "execution_count": 2,
   "metadata": {},
   "outputs": [],
   "source": [
    "#import this"
   ]
  },
  {
   "cell_type": "markdown",
   "metadata": {},
   "source": [
    "## Imperativ programozas\n",
    "\n",
    "Az imperativ szemlelettel megirt program annak allapotat (**state**) es annak megvaltozasat helyezi eloterbe. A program *aktualis* allapota a felhasznalt valtozok *aktualis* ertekevel irhato le.\n",
    "A program futasa soran utasitasokat (**statement**) hajt vegre *sorban*, melyek soran az ertekado utasitasok (**assignment**) valtoztatjak meg az allapotot. A program vezerlese (**control flow**) az elso utasitasnal indul es mindig pontosan meghatarozott iranyban halad tovabb (melyik a kovetkezo utasitas).\n",
    "\n",
    "A problema megoldasa soran arra torekszunk, hogy vilagossa tegyuk a szamitogep szamara, **hogyan** szeretnenk a kivant vegallapotot elerni, ezt fokent az algoritmus *explicit* leprogramozasaval erhetjuk el.\n",
    "\n",
    "### Strukturalt programozas\n",
    "\n",
    "Az imperativ megkozelites egy olyan specialis esete, ahol a felhasznalhato vezerlesi szerkezetek (**control structure**) korlatozva vannak.\n",
    "\n",
    "**Bohm-Jacopini tetel** (1966): Minden imperativ program megalkothato szekvencia (**sequence**), elagazas (**conditional**) es ciklus (**loop**) vezerlesi szerkezettel.\n",
    "\n",
    "A **goto** utasitas (vezerlesatadas tetszoleges helyre) **TILTOTT**.\n",
    "\n",
    "**Proceduralis programozas**: Alprogramokat (**procedure**) hasznalunk, melyek kodja *strukturalt*.\n"
   ]
  },
  {
   "cell_type": "code",
   "execution_count": 1,
   "metadata": {},
   "outputs": [
    {
     "name": "stdout",
     "output_type": "stream",
     "text": [
      "n: 3\n"
     ]
    }
   ],
   "source": [
    "# Calculate a sum of even numbers until n\n",
    "\n",
    "n = int(input(\"n: \"))"
   ]
  },
  {
   "cell_type": "markdown",
   "metadata": {},
   "source": [
    "## Deklarativ programozas\n",
    "\n",
    "A deklarativ program fo ismerve, hogy a programozo a kodolas soran, nem arra fekteti a hangsulyt, hogy a program *hogyan* jut el a vegeredmenyig, csupan -deklaraciok segitsegevel-, kozli *mit* szeretne vegeredmenyul kapni.\n",
    "- SQL\n",
    "- Haskell\n",
    "\n",
    "### Funkcionalis programozas\n",
    "\n",
    "A funkcionális programozás (**functional programming**) egy programozási módszertan, vagyis egyike a programozási paradigmáknak. Nevezhetjük applikatív programozásnak is. A funkcionális programnyelvek a programozási feladatot egy függvény kiértékelésének tekintik. A két fő eleme az érték és a függvény, nevét is függvények kitüntetett szerepének köszönheti.\n",
    "\n",
    "Egy más megfogalmazás szerint, a funkcionális programozás során a programozó inkább azt specifikálja programban, *mit* kell kiszámítani, nem azt, hogy *hogyan*, milyen lépésekben. Függvények hívásából és kiértékelésből áll a program. Nincsenek állapotok, mellékhatások (nem számít, mikor, csak az melyik függvényt hívjuk).\n",
    "\n",
    "A **rekurzió** a funkcionális programozás egyik fontos eszkoze, az ismétlések és ciklusok helyett rekurziót alkalmazhatunk. Ahhoz, hogy megertsd a rekurziot, elobb meg kell ertened a rekurziot.."
   ]
  },
  {
   "cell_type": "code",
   "execution_count": 2,
   "metadata": {},
   "outputs": [
    {
     "name": "stdout",
     "output_type": "stream",
     "text": [
      "n: 3\n"
     ]
    }
   ],
   "source": [
    "# Calculate a sum of even numbers until n\n",
    "\n",
    "n = int(input(\"n: \"))"
   ]
  },
  {
   "cell_type": "markdown",
   "metadata": {},
   "source": [
    "## Objektum orientalt programozas\n",
    "\n",
    "Az objektumorientált vagy objektumelvű programozás (*object-oriented programming*, **OOP**) programozási módszertan. Ellentétben a korábbi programozási módszertanokkal, nem a műveletek megalkotása áll a középpontban, hanem az egymással kapcsolatban álló programegységek hierarchiájának megtervezése."
   ]
  },
  {
   "cell_type": "code",
   "execution_count": 3,
   "metadata": {},
   "outputs": [
    {
     "name": "stdout",
     "output_type": "stream",
     "text": [
      "n: 3\n"
     ]
    }
   ],
   "source": [
    "# Calculate a sum of even numbers until n\n",
    "\n",
    "class SumEvenNumbers:\n",
    "    pass\n",
    "\n",
    "n = int(input(\"n: \"))"
   ]
  },
  {
   "cell_type": "markdown",
   "metadata": {},
   "source": [
    "[OOP kritikak](https://hu.wikipedia.org/wiki/Objektumorient%C3%A1lt_programoz%C3%A1s#Kritik%C3%A1ja)"
   ]
  }
 ],
 "metadata": {
  "kernelspec": {
   "display_name": "Python 3",
   "language": "python",
   "name": "python3"
  },
  "language_info": {
   "codemirror_mode": {
    "name": "ipython",
    "version": 3
   },
   "file_extension": ".py",
   "mimetype": "text/x-python",
   "name": "python",
   "nbconvert_exporter": "python",
   "pygments_lexer": "ipython3",
   "version": "3.5.2"
  }
 },
 "nbformat": 4,
 "nbformat_minor": 2
}
