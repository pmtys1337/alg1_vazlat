{
 "cells": [
  {
   "cell_type": "markdown",
   "metadata": {},
   "source": [
    "# Programozasi tetelek\n",
    "\n",
    "Az ugynevezett *programozasi tetelek* kimondasa es alkalmazasa hagyomanyosan az egyik meghatarozo pillere az informatika oktatasnak. Ezek a tetelek olyan altalanos celu, egyszeru algoritmus mintak, melyek -a tapasztaltabb fejlesztok szerint is- a problemamegoldas es a programkeszites gyakran felhasznalt elemi epitokovei\n",
    "\n",
    "Nagyon sok feladat megoldasakor igyekszunk a problemat addig-addig boncolni aprobb darabokra -legtobbszor sikerrel-, hogy illeszkedni tudjon egy -esetleg tobb- mar **ismert** es ami sokszor fontosabb mar **megoldott** problema -esetleg azok osszefuzott- vazara. Igy ezeket mar kelloen egyszeruen es rutinosan megoldhatjuk.\n",
    "\n",
    "### Elofordulasuk\n",
    "\n",
    "A targyalt tetelek -mint sablonok- nagyon sok gyakorlati problemanal feltunhetnek es hasznos eszkozeink lehetnek a kesobbiekben. Vigyazzunk azonban, hogy egy-egy feladat lehet annyira specifikus (lsd. osszegzes), hogy egy ugyes trukkel (*_gondolkodas_*) jobb megoldast is adhatunk.\n",
    "\n",
    "A tetelek altalanos formaban mindig egy [n,m] intervallumon ertelmezett **f** fuggveny es egy **P** predikatum (*tulajdonsag*) fuggveny segitsegevel vannak megadva. Ezek segitsegevel matematikailag bizonyitott az algoritmusok **helyes** mukodese.\n",
    "\n",
    "Sokszor azonban csupan gyujtemenytipusokra (*tomb*, *lista*, *vector*..) alkalmazzuk oket, az adatok sokasagan ezert az **f** fuggvenyt egesz egyszruen, mint *aktualis elem* ertelmezzuk, azaz elunk az f(i) := t[i] egyszerusitessel. (Megj.: *minel magasabb szinten tudunk altalanositani egy algoritmust, annal jobban valik ujrafelhasznalhatova.)\n",
    "\n",
    "### Az algoritmusok leirasa\n",
    "\n",
    "Az algoritmusok leirasahoz un. **pszeudokodot** hasznalunk, ami egy egyszerusitett nyelv specialisan erre a celra kialakitva. Szandekosan hasonlit a programozasi nyelvekre, de nem azonosul egyikkel sem.\n",
    "\n",
    "[pszeudokod](https://hu.wikipedia.org/wiki/Pszeudok%C3%B3d)"
   ]
  },
  {
   "cell_type": "markdown",
   "metadata": {},
   "source": [
    "### Osszegzes"
   ]
  },
  {
   "cell_type": "code",
   "execution_count": 12,
   "metadata": {},
   "outputs": [],
   "source": [
    "def summa(numbers):\n",
    "    pass"
   ]
  },
  {
   "cell_type": "code",
   "execution_count": 13,
   "metadata": {},
   "outputs": [
    {
     "name": "stdout",
     "output_type": "stream",
     "text": [
      "None\n"
     ]
    }
   ],
   "source": [
    "print(summa([x for x in range(11)])) # 55"
   ]
  },
  {
   "cell_type": "markdown",
   "metadata": {},
   "source": [
    "#### Altalanositas"
   ]
  },
  {
   "cell_type": "code",
   "execution_count": 14,
   "metadata": {},
   "outputs": [],
   "source": [
    "def adv_sum(numbers, f, beta):\n",
    "    pass"
   ]
  },
  {
   "cell_type": "markdown",
   "metadata": {},
   "source": [
    "### Szamlalas"
   ]
  },
  {
   "cell_type": "markdown",
   "metadata": {},
   "source": [
    "### Eldontes"
   ]
  },
  {
   "cell_type": "markdown",
   "metadata": {},
   "source": [
    "### Kivalasztas"
   ]
  },
  {
   "cell_type": "markdown",
   "metadata": {},
   "source": [
    "### Linearis kereses"
   ]
  },
  {
   "cell_type": "markdown",
   "metadata": {},
   "source": [
    "### Maxumim kivalaszas"
   ]
  },
  {
   "cell_type": "markdown",
   "metadata": {},
   "source": [
    "## Altalanositas"
   ]
  },
  {
   "cell_type": "markdown",
   "metadata": {},
   "source": [
    "## Hazi feladat\n",
    "\n",
    "Irjunk egy fuggvenyt, ami egy kapott listabol visszaadja a legnagyobb primet, ha ilyen nincs -1-et. "
   ]
  },
  {
   "cell_type": "code",
   "execution_count": 2,
   "metadata": {},
   "outputs": [
    {
     "name": "stdout",
     "output_type": "stream",
     "text": [
      "None\n",
      "None\n"
     ]
    }
   ],
   "source": [
    "def max_prime(numbers):\n",
    "    pass\n",
    "\n",
    "print(max_prime([3,4,2,3,4,6,7,5,3,5,7,8,65,32,34,11])) # 11\n",
    "print(max_prime([342, 2456, 8238, 82745])) # -1"
   ]
  }
 ],
 "metadata": {
  "kernelspec": {
   "display_name": "Python 3",
   "language": "python",
   "name": "python3"
  },
  "language_info": {
   "codemirror_mode": {
    "name": "ipython",
    "version": 3
   },
   "file_extension": ".py",
   "mimetype": "text/x-python",
   "name": "python",
   "nbconvert_exporter": "python",
   "pygments_lexer": "ipython3",
   "version": "3.5.2"
  }
 },
 "nbformat": 4,
 "nbformat_minor": 2
}
